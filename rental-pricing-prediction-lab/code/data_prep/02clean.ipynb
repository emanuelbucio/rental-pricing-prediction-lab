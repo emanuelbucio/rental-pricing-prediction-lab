{
 "cells": [
  {
   "cell_type": "markdown",
   "metadata": {},
   "source": [
    "## Data Cleaning \n",
    "\n",
    "You'll notice that this dataset is by no means ready for analysis. We have:\n",
    "\n",
    "* a numeric column interpreted as a string\n",
    "* extra columns that are not relevant to our analysis\n",
    "* multiple rows with missing values\n",
    "* column names are too long\n",
    "\n",
    "Let's \"clean\" our dataset by fixing these errors below."
   ]
  },
  {
   "cell_type": "code",
   "execution_count": 1,
   "metadata": {},
   "outputs": [],
   "source": [
    "# import required modules for this project\n",
    "\n",
    "import pandas as pd\n",
    "import numpy as np\n",
    "\n",
    "import matplotlib.pyplot as plt\n",
    "import seaborn as sns"
   ]
  },
  {
   "cell_type": "code",
   "execution_count": 23,
   "metadata": {},
   "outputs": [
    {
     "data": {
      "text/html": [
       "<div>\n",
       "<style scoped>\n",
       "    .dataframe tbody tr th:only-of-type {\n",
       "        vertical-align: middle;\n",
       "    }\n",
       "\n",
       "    .dataframe tbody tr th {\n",
       "        vertical-align: top;\n",
       "    }\n",
       "\n",
       "    .dataframe thead th {\n",
       "        text-align: right;\n",
       "    }\n",
       "</style>\n",
       "<table border=\"1\" class=\"dataframe\">\n",
       "  <thead>\n",
       "    <tr style=\"text-align: right;\">\n",
       "      <th></th>\n",
       "      <th>No</th>\n",
       "      <th>X2 house age</th>\n",
       "      <th>X3 distance to the nearest MRT station</th>\n",
       "      <th>X4 number of convenience stores</th>\n",
       "      <th>X5 latitude</th>\n",
       "      <th>X6 longitude</th>\n",
       "      <th>Y house price of unit area</th>\n",
       "    </tr>\n",
       "  </thead>\n",
       "  <tbody>\n",
       "    <tr>\n",
       "      <th>0</th>\n",
       "      <td>False</td>\n",
       "      <td>False</td>\n",
       "      <td>False</td>\n",
       "      <td>False</td>\n",
       "      <td>False</td>\n",
       "      <td>False</td>\n",
       "      <td>False</td>\n",
       "    </tr>\n",
       "    <tr>\n",
       "      <th>1</th>\n",
       "      <td>False</td>\n",
       "      <td>False</td>\n",
       "      <td>False</td>\n",
       "      <td>False</td>\n",
       "      <td>False</td>\n",
       "      <td>False</td>\n",
       "      <td>False</td>\n",
       "    </tr>\n",
       "    <tr>\n",
       "      <th>2</th>\n",
       "      <td>False</td>\n",
       "      <td>False</td>\n",
       "      <td>False</td>\n",
       "      <td>False</td>\n",
       "      <td>False</td>\n",
       "      <td>False</td>\n",
       "      <td>False</td>\n",
       "    </tr>\n",
       "    <tr>\n",
       "      <th>3</th>\n",
       "      <td>False</td>\n",
       "      <td>False</td>\n",
       "      <td>False</td>\n",
       "      <td>False</td>\n",
       "      <td>False</td>\n",
       "      <td>False</td>\n",
       "      <td>False</td>\n",
       "    </tr>\n",
       "    <tr>\n",
       "      <th>4</th>\n",
       "      <td>False</td>\n",
       "      <td>False</td>\n",
       "      <td>False</td>\n",
       "      <td>False</td>\n",
       "      <td>False</td>\n",
       "      <td>False</td>\n",
       "      <td>False</td>\n",
       "    </tr>\n",
       "    <tr>\n",
       "      <th>...</th>\n",
       "      <td>...</td>\n",
       "      <td>...</td>\n",
       "      <td>...</td>\n",
       "      <td>...</td>\n",
       "      <td>...</td>\n",
       "      <td>...</td>\n",
       "      <td>...</td>\n",
       "    </tr>\n",
       "    <tr>\n",
       "      <th>409</th>\n",
       "      <td>False</td>\n",
       "      <td>False</td>\n",
       "      <td>False</td>\n",
       "      <td>False</td>\n",
       "      <td>False</td>\n",
       "      <td>False</td>\n",
       "      <td>False</td>\n",
       "    </tr>\n",
       "    <tr>\n",
       "      <th>410</th>\n",
       "      <td>False</td>\n",
       "      <td>False</td>\n",
       "      <td>False</td>\n",
       "      <td>False</td>\n",
       "      <td>False</td>\n",
       "      <td>False</td>\n",
       "      <td>False</td>\n",
       "    </tr>\n",
       "    <tr>\n",
       "      <th>411</th>\n",
       "      <td>False</td>\n",
       "      <td>False</td>\n",
       "      <td>False</td>\n",
       "      <td>False</td>\n",
       "      <td>False</td>\n",
       "      <td>False</td>\n",
       "      <td>False</td>\n",
       "    </tr>\n",
       "    <tr>\n",
       "      <th>412</th>\n",
       "      <td>False</td>\n",
       "      <td>False</td>\n",
       "      <td>False</td>\n",
       "      <td>False</td>\n",
       "      <td>False</td>\n",
       "      <td>False</td>\n",
       "      <td>False</td>\n",
       "    </tr>\n",
       "    <tr>\n",
       "      <th>413</th>\n",
       "      <td>False</td>\n",
       "      <td>False</td>\n",
       "      <td>False</td>\n",
       "      <td>False</td>\n",
       "      <td>False</td>\n",
       "      <td>False</td>\n",
       "      <td>False</td>\n",
       "    </tr>\n",
       "  </tbody>\n",
       "</table>\n",
       "<p>414 rows × 7 columns</p>\n",
       "</div>"
      ],
      "text/plain": [
       "        No  X2 house age  X3 distance to the nearest MRT station  \\\n",
       "0    False         False                                   False   \n",
       "1    False         False                                   False   \n",
       "2    False         False                                   False   \n",
       "3    False         False                                   False   \n",
       "4    False         False                                   False   \n",
       "..     ...           ...                                     ...   \n",
       "409  False         False                                   False   \n",
       "410  False         False                                   False   \n",
       "411  False         False                                   False   \n",
       "412  False         False                                   False   \n",
       "413  False         False                                   False   \n",
       "\n",
       "     X4 number of convenience stores  X5 latitude  X6 longitude  \\\n",
       "0                              False        False         False   \n",
       "1                              False        False         False   \n",
       "2                              False        False         False   \n",
       "3                              False        False         False   \n",
       "4                              False        False         False   \n",
       "..                               ...          ...           ...   \n",
       "409                            False        False         False   \n",
       "410                            False        False         False   \n",
       "411                            False        False         False   \n",
       "412                            False        False         False   \n",
       "413                            False        False         False   \n",
       "\n",
       "     Y house price of unit area  \n",
       "0                         False  \n",
       "1                         False  \n",
       "2                         False  \n",
       "3                         False  \n",
       "4                         False  \n",
       "..                          ...  \n",
       "409                       False  \n",
       "410                       False  \n",
       "411                       False  \n",
       "412                       False  \n",
       "413                       False  \n",
       "\n",
       "[414 rows x 7 columns]"
      ]
     },
     "execution_count": 23,
     "metadata": {},
     "output_type": "execute_result"
    }
   ],
   "source": [
    "# TODO: load in your excel file and print out how many missing values are in each column\n",
    "df = pd.read_excel (\"/Users/emanuelcortes/Desktop/TKH/rental-pricing-prediction-lab/data/raw/realestate.xlsx\")\n",
    "\n",
    "df.isnull()\n"
   ]
  },
  {
   "cell_type": "code",
   "execution_count": 9,
   "metadata": {},
   "outputs": [
    {
     "data": {
      "text/plain": [
       "Index(['No', 'house_age', 'distance_to_mrt', 'num_convenience_stores', 'lat',\n",
       "       'long', 'price_unit_area'],\n",
       "      dtype='object')"
      ]
     },
     "execution_count": 9,
     "metadata": {},
     "output_type": "execute_result"
    }
   ],
   "source": [
    "# TODO: using this dictionary, rename the relevant columns in your dataframe\n",
    "# documentation: https://pandas.pydata.org/docs/reference/api/pandas.DataFrame.rename.html\n",
    "rename_dict = {\n",
    "    \"X2 house age\": \"house_age\", \n",
    "    \"X3 distance to the nearest MRT station\": \"distance_to_mrt\", \n",
    "    \"X4 number of convenience stores\": \"num_convenience_stores\",\n",
    "    \"X5 latitude\": \"lat\",\n",
    "    \"X6 longitude\": \"long\",\n",
    "    \"Y house price of unit area\": \"price_unit_area\"\n",
    "}\n",
    "\n",
    "# rename columns\n",
    "df_rename = df.rename(columns=rename_dict)\n",
    "\n",
    "df_rename.columns"
   ]
  },
  {
   "cell_type": "code",
   "execution_count": 12,
   "metadata": {},
   "outputs": [],
   "source": [
    "selected = [\"lat\", \"long\", \"No\"]\n",
    "\n",
    "# TODO: Drop the above selected columns from your dataframe\n",
    "# documentation: https://pandas.pydata.org/docs/reference/api/pandas.DataFrame.drop.html\n",
    "df_drop = df_rename.drop(columns=[\"lat\", \"long\", \"No\"])"
   ]
  },
  {
   "cell_type": "code",
   "execution_count": 53,
   "metadata": {},
   "outputs": [],
   "source": [
    "# remove quotes from sample\n",
    "df_drop[\"distance_to_mrt\"] = df_drop[\"distance_to_mrt\"].astype(str).str.replace('.','')\n",
    "\n",
    "# TODO: convert the \"distance_to_mrt\" column to the \"float\" datatype\n",
    "# documentation: https://pandas.pydata.org/docs/reference/api/pandas.DataFrame.astype.html\n",
    "df_drop[\"distance_to_mrt\"] = df_drop[\"distance_to_mrt\"].astype(str).str.replace('.','')"
   ]
  },
  {
   "cell_type": "code",
   "execution_count": 54,
   "metadata": {},
   "outputs": [
    {
     "data": {
      "text/plain": [
       "(414, 4)"
      ]
     },
     "execution_count": 54,
     "metadata": {},
     "output_type": "execute_result"
    }
   ],
   "source": [
    "# check current \"shape\" of dataframe\n",
    "df_drop.shape"
   ]
  },
  {
   "cell_type": "code",
   "execution_count": 61,
   "metadata": {},
   "outputs": [
    {
     "data": {
      "text/plain": [
       "(414, 4)"
      ]
     },
     "execution_count": 61,
     "metadata": {},
     "output_type": "execute_result"
    }
   ],
   "source": [
    "# TODO: Remove missing values from this dataframe\n",
    "df.dropna()\n",
    "\n",
    "# check shape again\n",
    "df_drop.shape"
   ]
  },
  {
   "cell_type": "markdown",
   "metadata": {},
   "source": [
    "## Explore Again\n",
    "\n",
    "Now that we've cleaned our dataset, let's again explore the relationships & distributions of our dataset. \n",
    "\n",
    "Perhaps we missed something \"qualitative\" about our data that we should remove. "
   ]
  },
  {
   "cell_type": "code",
   "execution_count": 10,
   "metadata": {},
   "outputs": [
    {
     "name": "stdout",
     "output_type": "stream",
     "text": [
      "THIS IS THE MEAN\n"
     ]
    },
    {
     "ename": "NameError",
     "evalue": "name 'df_mean' is not defined",
     "output_type": "error",
     "traceback": [
      "\u001b[0;31m---------------------------------------------------------------------------\u001b[0m",
      "\u001b[0;31mNameError\u001b[0m                                 Traceback (most recent call last)",
      "Cell \u001b[0;32mIn[10], line 3\u001b[0m\n\u001b[1;32m      1\u001b[0m \u001b[39m# TODO: print out the summary statistics (mean, median, max, min, count) of all numeric columns\u001b[39;00m\n\u001b[1;32m      2\u001b[0m \u001b[39mprint\u001b[39m(\u001b[39m\"\u001b[39m\u001b[39mTHIS IS THE MEAN\u001b[39m\u001b[39m\"\u001b[39m)\n\u001b[0;32m----> 3\u001b[0m \u001b[39mprint\u001b[39m(df_mean)\n",
      "\u001b[0;31mNameError\u001b[0m: name 'df_mean' is not defined"
     ]
    }
   ],
   "source": [
    "# TODO: print out the summary statistics (mean, median, max, min, count) of all numeric columns\n",
    "print(\"THIS IS THE MEAN\")\n",
    "print(df.mean(axis=1, numeric_only=True))"
   ]
  },
  {
   "cell_type": "code",
   "execution_count": null,
   "metadata": {},
   "outputs": [],
   "source": [
    "# notice how the minimum value for \"num_convenience_stores\" is -6\n",
    "# TODO: how do we have -6 convenience stores? this must be an error, let's remove it\n",
    "# documentation: https://pandas.pydata.org/docs/user_guide/indexing.html#boolean-indexing\n",
    "..."
   ]
  },
  {
   "cell_type": "code",
   "execution_count": null,
   "metadata": {},
   "outputs": [],
   "source": [
    "# notice how the maximum value for \"num_convenience_stores\" is 100\n",
    "# this value does not show up in any other row and represents an extreme outlier\n",
    "# TODO: this is most likely an error, let's remove it\n",
    "..."
   ]
  },
  {
   "cell_type": "code",
   "execution_count": null,
   "metadata": {},
   "outputs": [],
   "source": [
    "# notice how the maximum \"house_age\" is 410.3 years old \n",
    "# not looking at statistics, the oldest house in Taiwan was built in the 17th century (300 years at most)\n",
    "# TODO: let's remove this value\n",
    "..."
   ]
  },
  {
   "cell_type": "code",
   "execution_count": null,
   "metadata": {},
   "outputs": [],
   "source": [
    "# TODO : plot histograms, boxplots, and barcharts of all available numeric columns. \n",
    "# Create as many additional code blocks as needed to present your visualizations.\n",
    "# article: https://www.statology.org/univariate-analysis-in-python/ \n",
    "..."
   ]
  },
  {
   "cell_type": "code",
   "execution_count": null,
   "metadata": {},
   "outputs": [],
   "source": [
    "# TODO : plot scatter-plots and other visualizations of all available numeric columns. \n",
    "# Create as many additional code blocks as needed to present your visualizations.\n",
    "# article: https://www.statology.org/bivariate-analysis-in-python/\n",
    "..."
   ]
  },
  {
   "cell_type": "code",
   "execution_count": 69,
   "metadata": {},
   "outputs": [],
   "source": [
    "# TODO: save your transformed dataframe into `data/processed` for modeling\n",
    "..."
   ]
  }
 ],
 "metadata": {
  "kernelspec": {
   "display_name": "Python 3",
   "language": "python",
   "name": "python3"
  },
  "language_info": {
   "codemirror_mode": {
    "name": "ipython",
    "version": 3
   },
   "file_extension": ".py",
   "mimetype": "text/x-python",
   "name": "python",
   "nbconvert_exporter": "python",
   "pygments_lexer": "ipython3",
   "version": "3.11.4"
  },
  "orig_nbformat": 4
 },
 "nbformat": 4,
 "nbformat_minor": 2
}
